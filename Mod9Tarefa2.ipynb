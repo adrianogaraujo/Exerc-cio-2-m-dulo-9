{
 "cells": [
  {
   "cell_type": "markdown",
   "metadata": {
    "id": "eYvCczy6lTt7"
   },
   "source": [
    "# Livro para consulta:\n",
    "- https://jakevdp.github.io/PythonDataScienceHandbook/03.08-aggregation-and-grouping.html\n",
    "- https://jakevdp.github.io/PythonDataScienceHandbook/03.09-pivot-tables.html\n",
    "    "
   ]
  },
  {
   "cell_type": "markdown",
   "metadata": {
    "id": "oeWprAfnlTt-"
   },
   "source": [
    "# 1. Importando bibliotecas <a name=\"import\"></a>\n",
    "\n",
    "<div style=\"text-align: right\"\n",
    "     \n",
    "[Voltar ao índice](#Contents)"
   ]
  },
  {
   "cell_type": "code",
   "execution_count": 3,
   "metadata": {
    "ExecuteTime": {
     "end_time": "2021-06-06T21:12:37.298706Z",
     "start_time": "2021-06-06T21:12:36.656481Z"
    },
    "id": "y_9gYudilTt_"
   },
   "outputs": [],
   "source": [
    "import numpy as np\n",
    "import pandas as pd\n",
    "import seaborn as sns\n",
    "import matplotlib.pyplot as plt\n",
    "\n",
    "%matplotlib inline"
   ]
  },
  {
   "cell_type": "code",
   "execution_count": null,
   "metadata": {
    "id": "1yNG4iFTlTuA"
   },
   "outputs": [],
   "source": []
  },
  {
   "cell_type": "markdown",
   "metadata": {
    "id": "-cpxC-IBlTuA"
   },
   "source": [
    "# 2. Carregando o dataframe SINASC <a name=\"read\"></a>\n",
    "<div style=\"text-align: right\"\n",
    "     \n",
    "[Voltar ao índice](#Contents)"
   ]
  },
  {
   "cell_type": "code",
   "execution_count": 5,
   "metadata": {
    "ExecuteTime": {
     "end_time": "2021-06-06T21:12:37.762376Z",
     "start_time": "2021-06-06T21:12:37.728383Z"
    },
    "id": "nQZn7u4DlTuB",
    "outputId": "74b44036-69d9-4139-b291-621d77ed331b",
    "scrolled": true
   },
   "outputs": [
    {
     "data": {
      "text/html": [
       "<div>\n",
       "<style scoped>\n",
       "    .dataframe tbody tr th:only-of-type {\n",
       "        vertical-align: middle;\n",
       "    }\n",
       "\n",
       "    .dataframe tbody tr th {\n",
       "        vertical-align: top;\n",
       "    }\n",
       "\n",
       "    .dataframe thead th {\n",
       "        text-align: right;\n",
       "    }\n",
       "</style>\n",
       "<table border=\"1\" class=\"dataframe\">\n",
       "  <thead>\n",
       "    <tr style=\"text-align: right;\">\n",
       "      <th></th>\n",
       "      <th>ORIGEM</th>\n",
       "      <th>CODESTAB</th>\n",
       "      <th>CODMUNNASC</th>\n",
       "      <th>LOCNASC</th>\n",
       "      <th>IDADEMAE</th>\n",
       "      <th>ESTCIVMAE</th>\n",
       "      <th>ESCMAE</th>\n",
       "      <th>CODOCUPMAE</th>\n",
       "      <th>QTDFILVIVO</th>\n",
       "      <th>QTDFILMORT</th>\n",
       "      <th>...</th>\n",
       "      <th>KOTELCHUCK</th>\n",
       "      <th>CONTADOR</th>\n",
       "      <th>munResStatus</th>\n",
       "      <th>munResTipo</th>\n",
       "      <th>munResNome</th>\n",
       "      <th>munResUf</th>\n",
       "      <th>munResLat</th>\n",
       "      <th>munResLon</th>\n",
       "      <th>munResAlt</th>\n",
       "      <th>munResArea</th>\n",
       "    </tr>\n",
       "  </thead>\n",
       "  <tbody>\n",
       "    <tr>\n",
       "      <th>0</th>\n",
       "      <td>1</td>\n",
       "      <td>2679477.0</td>\n",
       "      <td>110001</td>\n",
       "      <td>1</td>\n",
       "      <td>19</td>\n",
       "      <td>5.0</td>\n",
       "      <td>8 a 11 anos</td>\n",
       "      <td>NaN</td>\n",
       "      <td>0.0</td>\n",
       "      <td>0.0</td>\n",
       "      <td>...</td>\n",
       "      <td>5</td>\n",
       "      <td>1</td>\n",
       "      <td>ATIVO</td>\n",
       "      <td>MUNIC</td>\n",
       "      <td>Alta Floresta D'Oeste</td>\n",
       "      <td>Rondônia</td>\n",
       "      <td>-11.93554</td>\n",
       "      <td>-61.99982</td>\n",
       "      <td>338.0</td>\n",
       "      <td>7067.025</td>\n",
       "    </tr>\n",
       "    <tr>\n",
       "      <th>1</th>\n",
       "      <td>1</td>\n",
       "      <td>2679477.0</td>\n",
       "      <td>110001</td>\n",
       "      <td>1</td>\n",
       "      <td>29</td>\n",
       "      <td>2.0</td>\n",
       "      <td>8 a 11 anos</td>\n",
       "      <td>999992.0</td>\n",
       "      <td>1.0</td>\n",
       "      <td>0.0</td>\n",
       "      <td>...</td>\n",
       "      <td>5</td>\n",
       "      <td>2</td>\n",
       "      <td>ATIVO</td>\n",
       "      <td>MUNIC</td>\n",
       "      <td>Alta Floresta D'Oeste</td>\n",
       "      <td>Rondônia</td>\n",
       "      <td>-11.93554</td>\n",
       "      <td>-61.99982</td>\n",
       "      <td>338.0</td>\n",
       "      <td>7067.025</td>\n",
       "    </tr>\n",
       "    <tr>\n",
       "      <th>2</th>\n",
       "      <td>1</td>\n",
       "      <td>2679477.0</td>\n",
       "      <td>110001</td>\n",
       "      <td>1</td>\n",
       "      <td>37</td>\n",
       "      <td>9.0</td>\n",
       "      <td>8 a 11 anos</td>\n",
       "      <td>513205.0</td>\n",
       "      <td>2.0</td>\n",
       "      <td>0.0</td>\n",
       "      <td>...</td>\n",
       "      <td>5</td>\n",
       "      <td>3</td>\n",
       "      <td>ATIVO</td>\n",
       "      <td>MUNIC</td>\n",
       "      <td>Alta Floresta D'Oeste</td>\n",
       "      <td>Rondônia</td>\n",
       "      <td>-11.93554</td>\n",
       "      <td>-61.99982</td>\n",
       "      <td>338.0</td>\n",
       "      <td>7067.025</td>\n",
       "    </tr>\n",
       "    <tr>\n",
       "      <th>3</th>\n",
       "      <td>1</td>\n",
       "      <td>2516500.0</td>\n",
       "      <td>110001</td>\n",
       "      <td>1</td>\n",
       "      <td>30</td>\n",
       "      <td>5.0</td>\n",
       "      <td>12 anos ou mais</td>\n",
       "      <td>231205.0</td>\n",
       "      <td>0.0</td>\n",
       "      <td>0.0</td>\n",
       "      <td>...</td>\n",
       "      <td>4</td>\n",
       "      <td>4</td>\n",
       "      <td>ATIVO</td>\n",
       "      <td>MUNIC</td>\n",
       "      <td>Alto Alegre dos Parecis</td>\n",
       "      <td>Rondônia</td>\n",
       "      <td>-12.13178</td>\n",
       "      <td>-61.85308</td>\n",
       "      <td>397.0</td>\n",
       "      <td>3958.273</td>\n",
       "    </tr>\n",
       "    <tr>\n",
       "      <th>4</th>\n",
       "      <td>1</td>\n",
       "      <td>2516500.0</td>\n",
       "      <td>110001</td>\n",
       "      <td>1</td>\n",
       "      <td>30</td>\n",
       "      <td>2.0</td>\n",
       "      <td>8 a 11 anos</td>\n",
       "      <td>999992.0</td>\n",
       "      <td>1.0</td>\n",
       "      <td>0.0</td>\n",
       "      <td>...</td>\n",
       "      <td>5</td>\n",
       "      <td>5</td>\n",
       "      <td>ATIVO</td>\n",
       "      <td>MUNIC</td>\n",
       "      <td>Alta Floresta D'Oeste</td>\n",
       "      <td>Rondônia</td>\n",
       "      <td>-11.93554</td>\n",
       "      <td>-61.99982</td>\n",
       "      <td>338.0</td>\n",
       "      <td>7067.025</td>\n",
       "    </tr>\n",
       "  </tbody>\n",
       "</table>\n",
       "<p>5 rows × 69 columns</p>\n",
       "</div>"
      ],
      "text/plain": [
       "   ORIGEM   CODESTAB  CODMUNNASC  LOCNASC  IDADEMAE  ESTCIVMAE  \\\n",
       "0       1  2679477.0      110001        1        19        5.0   \n",
       "1       1  2679477.0      110001        1        29        2.0   \n",
       "2       1  2679477.0      110001        1        37        9.0   \n",
       "3       1  2516500.0      110001        1        30        5.0   \n",
       "4       1  2516500.0      110001        1        30        2.0   \n",
       "\n",
       "            ESCMAE  CODOCUPMAE  QTDFILVIVO  QTDFILMORT  ...  KOTELCHUCK  \\\n",
       "0      8 a 11 anos         NaN         0.0         0.0  ...           5   \n",
       "1      8 a 11 anos    999992.0         1.0         0.0  ...           5   \n",
       "2      8 a 11 anos    513205.0         2.0         0.0  ...           5   \n",
       "3  12 anos ou mais    231205.0         0.0         0.0  ...           4   \n",
       "4      8 a 11 anos    999992.0         1.0         0.0  ...           5   \n",
       "\n",
       "  CONTADOR munResStatus munResTipo               munResNome  munResUf  \\\n",
       "0        1        ATIVO      MUNIC    Alta Floresta D'Oeste  Rondônia   \n",
       "1        2        ATIVO      MUNIC    Alta Floresta D'Oeste  Rondônia   \n",
       "2        3        ATIVO      MUNIC    Alta Floresta D'Oeste  Rondônia   \n",
       "3        4        ATIVO      MUNIC  Alto Alegre dos Parecis  Rondônia   \n",
       "4        5        ATIVO      MUNIC    Alta Floresta D'Oeste  Rondônia   \n",
       "\n",
       "   munResLat munResLon  munResAlt  munResArea  \n",
       "0  -11.93554 -61.99982      338.0    7067.025  \n",
       "1  -11.93554 -61.99982      338.0    7067.025  \n",
       "2  -11.93554 -61.99982      338.0    7067.025  \n",
       "3  -12.13178 -61.85308      397.0    3958.273  \n",
       "4  -11.93554 -61.99982      338.0    7067.025  \n",
       "\n",
       "[5 rows x 69 columns]"
      ]
     },
     "execution_count": 5,
     "metadata": {},
     "output_type": "execute_result"
    }
   ],
   "source": [
    "sinasc_raw = pd.read_csv('SINASC_RO_2019.csv')\n",
    "sinasc_raw.head()"
   ]
  },
  {
   "cell_type": "code",
   "execution_count": null,
   "metadata": {
    "id": "Pz_6GorclTuC"
   },
   "outputs": [],
   "source": []
  },
  {
   "cell_type": "code",
   "execution_count": null,
   "metadata": {
    "id": "C7UKJm4slTuD"
   },
   "outputs": [],
   "source": []
  },
  {
   "cell_type": "code",
   "execution_count": null,
   "metadata": {
    "id": "X6JmtT08lTuD"
   },
   "outputs": [],
   "source": []
  },
  {
   "cell_type": "markdown",
   "metadata": {
    "id": "9GOoel3-lTuD"
   },
   "source": [
    "# Tarefa 2"
   ]
  },
  {
   "cell_type": "markdown",
   "metadata": {
    "id": "iNNeWswTlTuD"
   },
   "source": [
    "### 1. Crie 2 faixas de Latitude do município (munResLat) sendo uma acima e outra abaixo de -10.5 e aplique o groupby usando essas faixas como chave e realize operações de soma, media, minimo, maximo, mediana, desvio padrao, variancia pra pelo menos 2 variáveis numéricas ainda não utilizadas"
   ]
  },
  {
   "cell_type": "code",
   "execution_count": 8,
   "metadata": {
    "id": "HXtelNbnlTuE"
   },
   "outputs": [
    {
     "name": "stdout",
     "output_type": "stream",
     "text": [
      "              IDADEMAE                                                 \\\n",
      "                   sum       mean min max median       std        var   \n",
      "Latitude_Band                                                           \n",
      "Above -10.5     365094  26.014964  11  52   25.0  6.447663  41.572355   \n",
      "Below -10.5     340167  26.178775  12  53   26.0  6.320171  39.944563   \n",
      "\n",
      "                   PESO                                              \\\n",
      "                    sum         mean  min   max  median         std   \n",
      "Latitude_Band                                                         \n",
      "Above -10.5    45555148  3246.055864  295  5190  3275.0  556.487709   \n",
      "Below -10.5    42101809  3240.096121  258  5985  3270.0  531.794694   \n",
      "\n",
      "                              \n",
      "                         var  \n",
      "Latitude_Band                 \n",
      "Above -10.5    309678.570242  \n",
      "Below -10.5    282805.596163  \n"
     ]
    }
   ],
   "source": [
    "# Criando duas faixas de latitude\n",
    "sinasc_raw['Latitude_Band'] = np.where(sinasc_raw['munResLat'] > -10.5, 'Above -10.5', 'Below -10.5')\n",
    "\n",
    "# Agrupando os dados pelas faixas de latitude e aplicando as operações estatísticas\n",
    "grouped = sinasc_raw.groupby('Latitude_Band').agg({\n",
    "    'IDADEMAE': ['sum', 'mean', 'min', 'max', 'median', 'std', 'var'],\n",
    "    'PESO': ['sum', 'mean', 'min', 'max', 'median', 'std', 'var']\n",
    "})\n",
    "\n",
    "# Exibindo o resultado\n",
    "print(grouped)\n",
    "\n"
   ]
  },
  {
   "cell_type": "markdown",
   "metadata": {
    "id": "AK33D0mdlTuE"
   },
   "source": [
    "### 2. Crie 2 faixas da área dos municípios (munResArea) sendo uma acima e outra abaixo de 3000 e aplique o groupby usando essas faixas como chave e realize operações de soma, media, minimo, maximo, mediana, desvio padrao, variancia pra pelo menos 2 variáveis numéricas ainda não utilizadas\n"
   ]
  },
  {
   "cell_type": "code",
   "execution_count": 10,
   "metadata": {
    "id": "qqCXJtYIlTuE"
   },
   "outputs": [
    {
     "name": "stdout",
     "output_type": "stream",
     "text": [
      "           QTDFILVIVO                                                  \\\n",
      "                  sum      mean  min   max median       std       var   \n",
      "Area_Band                                                               \n",
      "Above 3000    22053.0  1.086890  0.0  14.0    1.0  1.191750  1.420268   \n",
      "Below 3000     4774.0  0.924298  0.0  30.0    1.0  1.075338  1.156352   \n",
      "\n",
      "           QTDFILMORT                                                  \n",
      "                  sum      mean  min   max median       std       var  \n",
      "Area_Band                                                              \n",
      "Above 3000     5383.0  0.272116  0.0  28.0    0.0  0.629081  0.395743  \n",
      "Below 3000     1261.0  0.244949  0.0   4.0    0.0  0.551262  0.303889  \n"
     ]
    }
   ],
   "source": [
    "# Criando duas faixas de área dos municípios\n",
    "sinasc_raw['Area_Band'] = np.where(sinasc_raw['munResArea'] > 3000, 'Above 3000', 'Below 3000')\n",
    "\n",
    "# Agrupando os dados pelas faixas de área e aplicando as operações estatísticas\n",
    "grouped_area = sinasc_raw.groupby('Area_Band').agg({\n",
    "    'QTDFILVIVO': ['sum', 'mean', 'min', 'max', 'median', 'std', 'var'],\n",
    "    'QTDFILMORT': ['sum', 'mean', 'min', 'max', 'median', 'std', 'var']\n",
    "})\n",
    "\n",
    "# Exibindo o resultado\n",
    "print(grouped_area)\n"
   ]
  },
  {
   "cell_type": "markdown",
   "metadata": {
    "id": "aWaljnnxlTuE"
   },
   "source": [
    "### 3. Determine faixas na variável munResAlt e aplique o groupby usando essas faixas como chave e realize operações de soma, media, minimo, maximo, mediana, desvio padrao, variancia pra pelo menos 2 variáveis numéricas ainda não utilizadas"
   ]
  },
  {
   "cell_type": "code",
   "execution_count": 12,
   "metadata": {},
   "outputs": [
    {
     "name": "stdout",
     "output_type": "stream",
     "text": [
      "              QTDPARTNOR                                                  \\\n",
      "                     sum      mean  min   max median       std       var   \n",
      "Altitude_Band                                                              \n",
      "Below 200m       12325.0  0.646608  0.0  40.0    0.0  1.226105  1.503334   \n",
      "200m to 500m      1724.0  0.382941  0.0  41.0    0.0  1.214023  1.473852   \n",
      "Above 500m         522.0  0.329338  0.0   9.0    0.0  0.840907  0.707125   \n",
      "\n",
      "              QTDPARTCES                                                  \n",
      "                     sum      mean  min   max median       std       var  \n",
      "Altitude_Band                                                             \n",
      "Below 200m        9406.0  0.491663  0.0  12.0    0.0  0.742181  0.550832  \n",
      "200m to 500m      2792.0  0.617699  0.0   5.0    0.0  0.751392  0.564590  \n",
      "Above 500m         938.0  0.591798  0.0   4.0    0.0  0.754152  0.568746  \n"
     ]
    }
   ],
   "source": [
    "# Criando faixas de altitude dos municípios\n",
    "sinasc_raw['Altitude_Band'] = pd.cut(sinasc_raw['munResAlt'], bins=[-np.inf, 200, 500, np.inf], labels=['Below 200m', '200m to 500m', 'Above 500m'])\n",
    "\n",
    "# Agrupando os dados pelas faixas de altitude e aplicando as operações estatísticas\n",
    "grouped_altitude = sinasc_raw.groupby('Altitude_Band', observed=True).agg({\n",
    "    'QTDPARTNOR': ['sum', 'mean', 'min', 'max', 'median', 'std', 'var'],\n",
    "    'QTDPARTCES': ['sum', 'mean', 'min', 'max', 'median', 'std', 'var']\n",
    "})\n",
    "\n",
    "# Exibindo o resultado\n",
    "print(grouped_altitude)\n",
    "\n"
   ]
  },
  {
   "cell_type": "code",
   "execution_count": null,
   "metadata": {},
   "outputs": [],
   "source": []
  },
  {
   "cell_type": "markdown",
   "metadata": {
    "id": "aF1riawJlTuF"
   },
   "source": [
    "### 4. Plote no mesmo grafico ao longo do tempo a idade media das mulheres de cada regiao imediatas de rondonia\n"
   ]
  },
  {
   "cell_type": "code",
   "execution_count": 14,
   "metadata": {},
   "outputs": [
    {
     "data": {
      "image/png": "[encoded data removed]",
      "text/plain": [
       "<Figure size 1000x600 with 1 Axes>"
      ]
     },
     "metadata": {},
     "output_type": "display_data"
    }
   ],
   "source": [
    "# Dicionário das regiões imediatas\n",
    "imediatas = {\n",
    "    \"Candeias do Jamari\": \"Porto Velho\", \"Guajará-Mirim\": \"Porto Velho\",\n",
    "    \"Itapuã do Oeste\": \"Porto Velho\", \"Nova Mamoré\": \"Porto Velho\",\n",
    "    \"Porto Velho\": \"Porto Velho\", \"Ariquemes\": \"Ariquemes\",\n",
    "    \"Alto Paraíso\": \"Ariquemes\", \"Buritis\": \"Ariquemes\",\n",
    "    \"Cacaulândia\": \"Ariquemes\", \"Campo Novo de Rondônia\": \"Ariquemes\",\n",
    "    \"Cujubim\": \"Ariquemes\", \"Monte Negro\": \"Ariquemes\",\n",
    "    \"Rio Crespo\": \"Ariquemes\", \"Jaru\": \"Jaru\",\n",
    "    \"Governador Jorge Teixeira\": \"Jaru\", \"Machadinho D'Oeste\": \"Jaru\",\n",
    "    \"Theobroma\": \"Jaru\", \"Vale do Anari\": \"Jaru\",\n",
    "    \"Alvorada D'Oeste\": \"Ji-Paraná\", \"Costa Marques\": \"Ji-Paraná\",\n",
    "    \"Ji-Paraná\": \"Ji-Paraná\", \"Mirante da Serra\": \"Ji-Paraná\",\n",
    "    \"Nova União\": \"Ji-Paraná\", \"Ouro Preto do Oeste\": \"Ji-Paraná\",\n",
    "    \"Presidente Médici\": \"Ji-Paraná\", \"São Francisco do Guaporé\": \"Ji-Paraná\",\n",
    "    \"São Miguel do Guaporé\": \"Ji-Paraná\", \"Seringueiras\": \"Ji-Paraná\",\n",
    "    \"Teixeirópolis\": \"Ji-Paraná\", \"Urupá\": \"Ji-Paraná\",\n",
    "    \"Vale do Paraíso\": \"Ji-Paraná\", \"Cacoal\": \"Cacoal\",\n",
    "    \"Alta Floresta D'Oeste\": \"Cacoal\", \"Alto Alegre dos Parecis\": \"Cacoal\",\n",
    "    \"Castanheiras\": \"Cacoal\", \"Espigão D'Oeste\": \"Cacoal\",\n",
    "    \"Ministro Andreazza\": \"Cacoal\", \"Nova Brasilândia D'Oeste\": \"Cacoal\",\n",
    "    \"Novo Horizonte do Oeste\": \"Cacoal\", \"Parecis\": \"Cacoal\",\n",
    "    \"Pimenta Bueno\": \"Cacoal\", \"Primavera de Rondônia\": \"Cacoal\",\n",
    "    \"Rolim de Moura\": \"Cacoal\", \"Santa Luzia D'Oeste\": \"Cacoal\",\n",
    "    \"São Felipe D'Oeste\": \"Cacoal\", \"Vilhena\": \"Vilhena\",\n",
    "    \"Cabixi\": \"Vilhena\", \"Cerejeiras\": \"Vilhena\",\n",
    "    \"Chupinguaia\": \"Vilhena\", \"Colorado do Oeste\": \"Vilhena\",\n",
    "    \"Corumbiara\": \"Vilhena\", \"Pimenteiras do Oeste\": \"Vilhena\"\n",
    "}\n",
    "\n",
    "# Mapeando cada município para sua região imediata\n",
    "sinasc_raw['Regiao_Imediata'] = sinasc_raw['munResNome'].map(imediatas)\n",
    "\n",
    "# Conversão de DTNASC para datetime e extração do ano para agrupamento\n",
    "sinasc_raw['DTNASC'] = pd.to_datetime(sinasc_raw['DTNASC'], format='%Y-%m-%d')\n",
    "sinasc_raw['Ano_Nascimento'] = sinasc_raw['DTNASC'].dt.year\n",
    "\n",
    "# Agrupando por região e ano, calculando a média da idade\n",
    "age_by_region = sinasc_raw.groupby(['Regiao_Imediata', 'Ano_Nascimento'])['IDADEMAE'].mean().unstack()\n",
    "\n",
    "# Plotando\n",
    "age_by_region.T.plot(figsize=(10, 6), marker='o')\n",
    "plt.title('Média da Idade das Mães por Região Imediata ao Longo do Tempo')\n",
    "plt.xlabel('Ano de Nascimento')\n",
    "plt.ylabel('Idade Média das Mães')\n",
    "plt.legend(title='Região Imediata')\n",
    "plt.grid(True)\n",
    "plt.show()\n"
   ]
  },
  {
   "cell_type": "code",
   "execution_count": null,
   "metadata": {},
   "outputs": [],
   "source": []
  },
  {
   "cell_type": "markdown",
   "metadata": {
    "id": "yt-LIWxblTuF"
   },
   "source": [
    "### 5. Utilize a tabela do link abaixo e crie faixas utilizando o mapping e gere agrupamentos utilizando essas faixas como chave\n"
   ]
  },
  {
   "cell_type": "markdown",
   "metadata": {
    "id": "moZakjgIlTuF"
   },
   "source": [
    "### 5.1 IDH\n",
    "A - https://pt.wikipedia.org/wiki/Lista_de_munic%C3%ADpios_de_Rond%C3%B4nia_por_IDH-M\n"
   ]
  },
  {
   "cell_type": "code",
   "execution_count": 17,
   "metadata": {
    "id": "DaJk66_BlTuF"
   },
   "outputs": [
    {
     "name": "stdout",
     "output_type": "stream",
     "text": [
      "          ORIGEM      CODESTAB     CODMUNNASC   LOCNASC   IDADEMAE  ESTCIVMAE  \\\n",
      "IDH_Band                                                                        \n",
      "Alto         1.0  3.479376e+06  111634.088567  1.009203  26.393065   2.549094   \n",
      "\n",
      "             CODOCUPMAE  QTDFILVIVO  QTDFILMORT      CODMUNRES  ...  TPROBSON  \\\n",
      "IDH_Band                                                        ...             \n",
      "Alto      785568.274222    1.065172    0.280558  110018.266951  ...  4.462343   \n",
      "\n",
      "          PARIDADE  KOTELCHUCK       CONTADOR  munResLat  munResLon  \\\n",
      "IDH_Band                                                              \n",
      "Alto      0.636163    5.131046  740271.414783  -9.842941 -62.854529   \n",
      "\n",
      "           munResAlt    munResArea  Ano_Nascimento      IDH  \n",
      "IDH_Band                                                     \n",
      "Alto      166.814474  24018.730488          2019.0  0.73006  \n",
      "\n",
      "[1 rows x 56 columns]\n"
     ]
    }
   ],
   "source": [
    "\n",
    "# Dicionário com mapeamento dos municípios e seus IDHs\n",
    "idh_dict = {\n",
    "    'Porto Velho': 0.736,\n",
    "    'Vilhena': 0.731,\n",
    "    'Cacoal': 0.718,\n",
    "    'Ji-Paraná': 0.714,\n",
    "    # Adicione outros municípios conforme necessário\n",
    "}\n",
    "\n",
    "# Mapeando o IDH no DataFrame\n",
    "sinasc_raw['IDH'] = sinasc_raw['munResNome'].map(idh_dict)\n",
    "\n",
    "# Criando faixas de IDH\n",
    "sinasc_raw['IDH_Band'] = pd.cut(sinasc_raw['IDH'], bins=[0, 0.499, 0.599, 0.699, 0.799, 1],\n",
    "                        labels=['Muito Baixo', 'Baixo', 'Médio', 'Alto', 'Muito Alto'])\n",
    "\n",
    "# Filtrando apenas colunas numéricas\n",
    "numeric_cols = sinasc_raw.select_dtypes(include=[np.number]).columns.tolist()\n",
    "\n",
    "# Agrupamento por faixas de IDH e aplicando média apenas nas colunas numéricas\n",
    "grouped_data = sinasc_raw.groupby('IDH_Band', observed=True)[numeric_cols].mean()\n",
    "\n",
    "print(grouped_data)\n"
   ]
  },
  {
   "cell_type": "markdown",
   "metadata": {
    "id": "zhtI6CxtlTuH"
   },
   "source": [
    "### 5.2 IFDM\n",
    "B - https://pt.wikipedia.org/wiki/Lista_de_munic%C3%ADpios_de_Rond%C3%B4nia_por_IFDM\n"
   ]
  },
  {
   "cell_type": "code",
   "execution_count": 19,
   "metadata": {
    "id": "1AVkd1M3lTuI"
   },
   "outputs": [
    {
     "name": "stdout",
     "output_type": "stream",
     "text": [
      "           ORIGEM      CODESTAB     CODMUNNASC  LOCNASC   IDADEMAE  ESTCIVMAE  \\\n",
      "IFDM_Band                                                                       \n",
      "Moderado      1.0  3.352165e+06  111409.869224  1.00879  26.261678    2.56645   \n",
      "\n",
      "              CODOCUPMAE  QTDFILVIVO  QTDFILMORT      CODMUNRES  ...  \\\n",
      "IFDM_Band                                                        ...   \n",
      "Moderado   793301.687373     1.04487    0.273072  110016.490834  ...   \n",
      "\n",
      "           PARIDADE  KOTELCHUCK       CONTADOR  munResLat  munResLon  \\\n",
      "IFDM_Band                                                              \n",
      "Moderado   0.636991    5.050728  741333.278189  -9.921005 -62.809313   \n",
      "\n",
      "            munResAlt    munResArea  Ano_Nascimento      IDH      IFDM  \n",
      "IFDM_Band                                                               \n",
      "Moderado   164.537167  21204.443219          2019.0  0.73006  0.730394  \n",
      "\n",
      "[1 rows x 57 columns]\n"
     ]
    }
   ],
   "source": [
    "ifdm_dict = {\n",
    "    'Porto Velho': 0.7257,\n",
    "    'Ariquemes': 0.7746,\n",
    "    'Vilhena': 0.7465,\n",
    "    'Pimenta Bueno': 0.7383,\n",
    "    'Ji-Paraná': 0.7117,\n",
    "    'Cacoal': 0.7111,\n",
    "    # Adicione outros municípios conforme necessário\n",
    "}\n",
    "\n",
    "# Mapeando IFDM no DataFrame\n",
    "sinasc_raw['IFDM'] = sinasc_raw['munResNome'].map(ifdm_dict)\n",
    "\n",
    "# Criando faixas de IFDM\n",
    "sinasc_raw['IFDM_Band'] = pd.cut(sinasc_raw['IFDM'], bins=[0, 0.6, 0.8, 1], labels=['Regular', 'Moderado', 'Alto'])\n",
    "\n",
    "# Agrupamento por faixas de IFDM e aplicando média apenas nas colunas numéricas\n",
    "numeric_cols = sinasc_raw.select_dtypes(include=[np.number]).columns.tolist()\n",
    "# Agrupamento por faixas de IFDM com a opção observed definida explicitamente\n",
    "grouped_data = sinasc_raw.groupby('IFDM_Band', observed=True)[numeric_cols].mean()\n",
    "\n",
    "print(grouped_data)\n",
    "\n"
   ]
  },
  {
   "cell_type": "code",
   "execution_count": null,
   "metadata": {},
   "outputs": [],
   "source": []
  },
  {
   "cell_type": "markdown",
   "metadata": {
    "id": "BwdS46EWlTuI"
   },
   "source": [
    "### 5.3 PIB\n",
    "C - https://pt.wikipedia.org/wiki/Lista_de_munic%C3%ADpios_de_Rond%C3%B4nia_por_PIB\n"
   ]
  },
  {
   "cell_type": "code",
   "execution_count": 21,
   "metadata": {},
   "outputs": [
    {
     "name": "stdout",
     "output_type": "stream",
     "text": [
      "                    ORIGEM      CODESTAB     CODMUNNASC   LOCNASC   IDADEMAE  \\\n",
      "PIB_Band                                                                       \n",
      "Acima de 2 milhões     1.0  3.383417e+06  111465.966497  1.009143  26.304402   \n",
      "\n",
      "                    ESTCIVMAE    CODOCUPMAE  QTDFILVIVO  QTDFILMORT  \\\n",
      "PIB_Band                                                              \n",
      "Acima de 2 milhões   2.567203  793980.23193    1.052661    0.275976   \n",
      "\n",
      "                       CODMUNRES  ...  KOTELCHUCK     CONTADOR  munResLat  \\\n",
      "PIB_Band                          ...                                       \n",
      "Acima de 2 milhões  110016.43012  ...    5.077978  741370.4343   -9.85034   \n",
      "\n",
      "                    munResLon  munResAlt    munResArea  Ano_Nascimento  \\\n",
      "PIB_Band                                                                 \n",
      "Acima de 2 milhões -62.874712  163.67372  21806.423555          2019.0   \n",
      "\n",
      "                        IDH      IFDM           PIB  \n",
      "PIB_Band                                             \n",
      "Acima de 2 milhões  0.73006  0.730076  1.119712e+07  \n",
      "\n",
      "[1 rows x 58 columns]\n"
     ]
    }
   ],
   "source": [
    "pib_dict = {\n",
    "    'Porto Velho': 17912070,\n",
    "    'Ji-Paraná': 3783972,\n",
    "    'Vilhena': 2831175,\n",
    "    'Ariquemes': 2579830,\n",
    "    'Cacoal': 2261644,\n",
    "    # Adicione outros municípios conforme necessário\n",
    "}\n",
    "\n",
    "# Mapeando PIB no DataFrame\n",
    "sinasc_raw['PIB'] = sinasc_raw['munResNome'].map(pib_dict)\n",
    "\n",
    "# Criando faixas de PIB\n",
    "bins = [0, 500000, 1000000, 2000000, float('inf')]\n",
    "labels = ['Até 500 mil', '500 mil a 1 milhão', '1 a 2 milhões', 'Acima de 2 milhões']\n",
    "sinasc_raw['PIB_Band'] = pd.cut(sinasc_raw['PIB'], bins=bins, labels=labels)\n",
    "\n",
    "# Filtrando apenas colunas numéricas\n",
    "numeric_cols = sinasc_raw.select_dtypes(include=[np.number]).columns.tolist()\n",
    "\n",
    "# Agrupando por faixas de PIB com a opção observed definida explicitamente\n",
    "grouped_data = sinasc_raw.groupby('PIB_Band', observed=True)[numeric_cols].mean()\n",
    "\n",
    "print(grouped_data)\n"
   ]
  },
  {
   "cell_type": "code",
   "execution_count": null,
   "metadata": {},
   "outputs": [],
   "source": []
  },
  {
   "cell_type": "markdown",
   "metadata": {
    "id": "bdWGW_xtlTuI"
   },
   "source": [
    "### Analise as respostas encontradas, tire algum insight delas, conte pra gente algo encontrado nos dados."
   ]
  },
  {
   "cell_type": "markdown",
   "metadata": {
    "id": "shZvokfBlTuI"
   },
   "source": [
    "Exemplo:\n",
    "- Ah, descobri que a idade mediana das mulheres que deram a luz no ano de 2019 dos municipios com o PIB mais alto é a maior dentre todas.\n",
    "\n",
    "- Desigualdades Regionais: A distribuição do PIB pode mostrar quais municípios têm economias mais robustas e podem indicar desigualdades regionais. Por exemplo, municípios com PIBs mais altos podem ter melhores infraestruturas e serviços, enquanto os de PIBs mais baixos podem indicar regiões que precisam de mais investimentos.\n",
    "\n",
    "- Relação PIB e Qualidade de Vida: Pode-se explorar se há uma correlação entre o PIB dos municípios e indicadores de qualidade de vida ou saúde, como o IDH e IFDM já analisados. Isso poderia indicar se um maior PIB está associado a melhores condições de vida."
   ]
  },
  {
   "cell_type": "code",
   "execution_count": null,
   "metadata": {
    "id": "f8P7BYYglTuJ"
   },
   "outputs": [],
   "source": []
  }
 ],
 "metadata": {
  "colab": {
   "provenance": []
  },
  "kernelspec": {
   "display_name": "Python 3 (ipykernel)",
   "language": "python",
   "name": "python3"
  },
  "language_info": {
   "codemirror_mode": {
    "name": "ipython",
    "version": 3
   },
   "file_extension": ".py",
   "mimetype": "text/x-python",
   "name": "python",
   "nbconvert_exporter": "python",
   "pygments_lexer": "ipython3",
   "version": "3.12.4"
  },
  "varInspector": {
   "cols": {
    "lenName": 16,
    "lenType": 16,
    "lenVar": 40
   },
   "kernels_config": {
    "python": {
     "delete_cmd_postfix": "",
     "delete_cmd_prefix": "del ",
     "library": "var_list.py",
     "varRefreshCmd": "print(var_dic_list())"
    },
    "r": {
     "delete_cmd_postfix": ") ",
     "delete_cmd_prefix": "rm(",
     "library": "var_list.r",
     "varRefreshCmd": "cat(var_dic_list()) "
    }
   },
   "types_to_exclude": [
    "module",
    "function",
    "builtin_function_or_method",
    "instance",
    "_Feature"
   ],
   "window_display": false
  }
 },
 "nbformat": 4,
 "nbformat_minor": 4
}
